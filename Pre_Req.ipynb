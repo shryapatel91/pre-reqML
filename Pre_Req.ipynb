{
 "cells": [
  {
   "cell_type": "markdown",
   "id": "02fc0c26-975c-4b39-a38e-5acb743cbc61",
   "metadata": {},
   "source": [
    "Q.1 How many multiplications and additions do you need to perform a matrix multiplication between a (n, k) and (k, m) matrix? Explain.\n",
    "    Number of mulitplication needed: n*k*m and number of additions needed: n*(k-1)*m\n",
    "    To calculate every element in the resultant (n,m) array, k multiplications and k-1 additions are required. To fill a row, m such operations are needed; n times to fill the whole array."
   ]
  },
  {
   "cell_type": "markdown",
   "id": "44401ef0-d8d0-4e3f-a10a-39cbd85efcca",
   "metadata": {},
   "source": [
    "Q.2 Write Python code to multiply the above two matrices. Solve using list of lists and then use numpy. Compare the timing of both solutions. Which one is faster? Why?\n",
    "    The method using a list of lists is faster than the method using numpy. \n",
    "    Time for the former method: 0.0008356571197509766s\n",
    "    Time for the later method: 0.2068006992340088s\r\n"
   ]
  },
  {
   "cell_type": "code",
   "execution_count": 2,
   "id": "77b83ba4-b93a-4a72-9167-cc7fcc680776",
   "metadata": {},
   "outputs": [
    {
     "name": "stdout",
     "output_type": "stream",
     "text": [
      "[[7, 16, 9], [21, 28, 17], [42, 40, 26]]\n",
      "0.0\n"
     ]
    }
   ],
   "source": [
    "import time \n",
    "start = time.time()\n",
    "\n",
    "matrix1 = [[3,1],\n",
    "           [4,3],\n",
    "           [4,6]]\n",
    "# a (n,k) matrix\n",
    "\n",
    "matrix2 = [[0,4,2],\n",
    "           [7,4,3]]\n",
    "# a (k,m) matrix\n",
    "\n",
    "n = 3 \n",
    "m = 3\n",
    "k = 2\n",
    "\n",
    "out_mat = [[0 for _ in range(m)] for _ in range(n)]\n",
    "\n",
    "for i in range(n) :\n",
    "    for j in range(m) :\n",
    "        for l in range(k):\n",
    "            out_mat[i][j] += matrix1[i][l] * matrix2[l][j]\n",
    "\n",
    "\n",
    "print(out_mat)\n",
    "end = time.time()\n",
    "print(end-start)"
   ]
  },
  {
   "cell_type": "code",
   "execution_count": 3,
   "id": "dfb68af9-012c-4e1b-b0b7-16d1c1cf3893",
   "metadata": {},
   "outputs": [
    {
     "name": "stdout",
     "output_type": "stream",
     "text": [
      "[[ 7 16  9]\n",
      " [21 28 17]\n",
      " [42 40 26]]\n",
      "0.0\n"
     ]
    }
   ],
   "source": [
    "#using numpy\n",
    "import numpy as np\n",
    "import time \n",
    "start = time.time()\n",
    "mat1 = np.array([[3,1],[4,3],[4,6]])\n",
    "mat2 = np.array([[0,4,2],[7,4,3]])\n",
    "\n",
    "n = 3 \n",
    "m = 3\n",
    "k = 2\n",
    "\n",
    "out_mat = np.dot(mat1,mat2)\n",
    "#function to calculate dot product of two arrays\n",
    "print(out_mat)\n",
    "\n",
    "end = time.time()\n",
    "print(end-start)"
   ]
  },
  {
   "cell_type": "markdown",
   "id": "ecb5ddb8-a2bb-46ed-ab12-a4dbbcf53c49",
   "metadata": {},
   "source": [
    "Q.3 Finding the highest element in a list requires one pass of the array. Finding the second highest element requires 2 passes of the the array. Using this method, what is the time complexity of finding the median of the array? Can you suggest a better method? Can you implement both these methods in Python and compare against numpy.median routine in terms of time?"
   ]
  },
  {
   "cell_type": "code",
   "execution_count": 6,
   "id": "d3c10db4-d547-4c41-bad0-c1de8328197e",
   "metadata": {},
   "outputs": [
    {
     "name": "stdout",
     "output_type": "stream",
     "text": [
      "2.5\n",
      "0.0\n"
     ]
    }
   ],
   "source": [
    "#Finding the highest element in a list requires one pass of the array. \n",
    "#Finding the second highest element requires 2 passes of the the array.\n",
    "# Using this method, what is the time complexity of finding the median of the array?\n",
    "\n",
    "#we'll run a loop till we find  midth highest element \n",
    "# where mid = n/2\n",
    "import time\n",
    "start = time.time()\n",
    "\n",
    "num = [1,0,3,4,2,5]\n",
    "n=6\n",
    "mid = n//2\n",
    "ans = 0\n",
    "for i in range(mid):\n",
    "    #find highest element\n",
    "    elem = max(num)\n",
    "    #for i in num:\n",
    "    #    if i>elem:\n",
    "    #        elem = i\n",
    "\n",
    "    num.remove(elem)\n",
    "    if n % 2 == 0 and i == mid - 1:\n",
    "        ans = (elem + max(num)) / 2\n",
    "    elif n % 2 == 1 and i == mid - 1:\n",
    "        ans = elem\n",
    "    n-=1\n",
    "\n",
    "\n",
    "print(ans)\n",
    "\n",
    "end = time.time()\n",
    "print(end-start)\n",
    "#time complexity O(n^2) n/2 times highest elements and n/2 searches each time"
   ]
  },
  {
   "cell_type": "code",
   "execution_count": 7,
   "id": "c198258b-5abb-44f1-8006-2e9853fc2f49",
   "metadata": {},
   "outputs": [
    {
     "name": "stdout",
     "output_type": "stream",
     "text": [
      "2.5\n",
      "0.0\n"
     ]
    }
   ],
   "source": [
    "#better method\n",
    "import time\n",
    "start = time.time()\n",
    "\n",
    "num = [1,0,3,4,2,5]\n",
    "n=6\n",
    "mid = n//2\n",
    "num.sort()\n",
    "print((num[mid]+num[mid-1])/2)\n",
    "\n",
    "end = time.time()\n",
    "print(end-start)\n",
    "#time complexity is O(nlogn) as sort() uses quick sort algorithm\n"
   ]
  },
  {
   "cell_type": "code",
   "execution_count": null,
   "id": "eb0f8b38-8c48-4408-bfb2-5e73ac730681",
   "metadata": {},
   "outputs": [],
   "source": [
    "#numpy median method\n",
    "import time\n",
    "import numpy as np\n",
    "\n",
    "start = time.time()\n",
    "\n",
    "num = np.array([1,0,3,4,2,5])\n",
    "med = np.median(num)\n",
    "print(med)\n",
    "\n",
    "end = time.time()\n",
    "print(end-start)"
   ]
  },
  {
   "cell_type": "markdown",
   "id": "e2b51822-3d56-43d0-a830-61b14a99b5b7",
   "metadata": {},
   "source": [
    "Q.4 What is the gradient of the following function with respect to x and y? \n",
    "$$f(x,y) = x^2*y + y^3*sin(x)$$\n",
    "    In terms of x:\n",
    "        $df/dx = (d(x^2)/dx)*y + y^3*(d(sin(x))/dx)$\n",
    "        $df/dx = 2*x*y + y^3*cos(x)$\n",
    "    In terms of y:\n",
    "        $df/dy = x^2*(d(y)/dy) + (d(y^3)/dy)*sinx(x)$\n",
    "        $df/dy = x^2 + 2*y^2*sinx(x)$"
   ]
  },
  {
   "cell_type": "markdown",
   "id": "5601543c-1aee-438b-920f-de126f6ad782",
   "metadata": {},
   "source": [
    "Q.5 Use JAX to confirm the gradient evaluated by your method matches the analytical solution corresponding to a few random values of x and y."
   ]
  },
  {
   "cell_type": "code",
   "execution_count": 1,
   "id": "fdd5a7c2-e87b-49c1-b4d8-f6ba2c0d5e71",
   "metadata": {},
   "outputs": [
    {
     "name": "stdout",
     "output_type": "stream",
     "text": [
      "[10.770851   6.9183702]\n"
     ]
    }
   ],
   "source": [
    "import jax.numpy as jnp\n",
    "from jax import grad\n",
    "\n",
    "def f(x):\n",
    "    return x[0]**2*x[1] + x[1]**3*jnp.sin(x[0])\n",
    "\n",
    "dfdx = grad(f)\n",
    "\n",
    "x = jnp.array([4., 2.])\n",
    "print(dfdx(x))"
   ]
  },
  {
   "cell_type": "markdown",
   "id": "1f12367c-51a5-4b2d-b240-7ba56857025d",
   "metadata": {},
   "source": [
    "Q.6 Use sympy to confirm that you obtain the same gradient analytically."
   ]
  },
  {
   "cell_type": "code",
   "execution_count": 2,
   "id": "61ee70b3-ef54-45b6-a8dc-32405568b488",
   "metadata": {},
   "outputs": [
    {
     "name": "stdout",
     "output_type": "stream",
     "text": [
      "(2*x*y + y**3*cos(x), x**2 + 3*y**2*sin(x))\n"
     ]
    }
   ],
   "source": [
    "import sympy as sp\n",
    "\n",
    "x,y = sp.symbols('x y')\n",
    "#to declare x and y\n",
    "\n",
    "f = x**2*y + y**3*sp.sin(x)\n",
    "\n",
    "df= (f.diff(x),f.diff(y))\n",
    "#built-in function in sympy\n",
    "\n",
    "print(df)"
   ]
  },
  {
   "cell_type": "code",
   "execution_count": 3,
   "id": "c726fe89-53ae-48b5-bfb1-f36c38b06d4c",
   "metadata": {},
   "outputs": [],
   "source": [
    "#Q.7 "
   ]
  },
  {
   "cell_type": "code",
   "execution_count": 4,
   "id": "a26edf6e-5552-4a5d-b925-c8f9921a690c",
   "metadata": {},
   "outputs": [
    {
     "name": "stdout",
     "output_type": "stream",
     "text": [
      "{2022: {'Branch1': {1: {'Roll Number': '1', 'Name': 'N1', 'Marks': {'Maths': 100, 'English': 70}}, 2: {'Roll Number': '2', 'Name': 'N2', 'Marks': {'Maths': 60, 'English': 80}}}, 'Branch2': {1: {'Roll Number': '1', 'Name': 'M1', 'Marks': {'Maths': 100, 'English': 70}}, 2: {'Roll Number': '2', 'Name': 'M2', 'Marks': {'Maths': 60, 'English': 80}}}}, 2023: {'Branch1': {}, 'Branch2': {}}, 2024: {'Branch1': {}, 'Branch2': {}}, 2025: {'Branch1': {}, 'Branch2': {}}}\n"
     ]
    }
   ],
   "source": [
    "#Student Record\n",
    "students = {}\n",
    "\n",
    "students[2022] = {\n",
    "    'Branch1' : {\n",
    "        1: {\n",
    "            'Roll Number' : '1',\n",
    "            'Name' : 'N1',\n",
    "            'Marks' : {\n",
    "                'Maths' : 100,\n",
    "                'English' : 70,\n",
    "            }\n",
    "        },\n",
    "        2: {\n",
    "            'Roll Number' : '2',\n",
    "            'Name' : 'N2',\n",
    "            'Marks' : {\n",
    "                'Maths' : 60,\n",
    "                'English' : 80,\n",
    "            }\n",
    "        }\n",
    "    },\n",
    "    'Branch2' : {\n",
    "        1: {\n",
    "            'Roll Number' : '1',\n",
    "            'Name' : 'M1',\n",
    "            'Marks' : {\n",
    "                'Maths' : 100,\n",
    "                'English' : 70,\n",
    "            }\n",
    "        },\n",
    "        2: {\n",
    "            'Roll Number' : '2',\n",
    "            'Name' : 'M2',\n",
    "            'Marks' : {\n",
    "                'Maths' : 60,\n",
    "                'English' : 80,\n",
    "            }\n",
    "        }\n",
    "    }\n",
    "}\n",
    "\n",
    "students[2023] = {\n",
    "    'Branch1': {},\n",
    "    'Branch2': {}\n",
    "}\n",
    "\n",
    "students[2024] = {\n",
    "    'Branch1': {},\n",
    "    'Branch2': {}\n",
    "}\n",
    "\n",
    "students[2025] = {\n",
    "    'Branch1': {},\n",
    "    'Branch2': {}\n",
    "}\n",
    "\n",
    "print(students)"
   ]
  },
  {
   "cell_type": "markdown",
   "id": "c98e1294-ab24-4505-a904-c15802fb8ac8",
   "metadata": {},
   "source": [
    "Q.8 Store the same information using Python classes. We have an overall database which is a list of year objects. Each year contains a list of branches. Each branch contains a list of students. Each student has some properties like name, roll number and has marks in some subjects."
   ]
  },
  {
   "cell_type": "code",
   "execution_count": 5,
   "id": "51702093-6b28-42f0-8e78-c7cf54926efd",
   "metadata": {},
   "outputs": [],
   "source": [
    "class record:\n",
    "    def __init__(self,year):\n",
    "        self.year = year\n",
    "\n",
    "    def __str__(self):\n",
    "        return f\"Record: {self.year}\"\n",
    "\n",
    "\n",
    "\n",
    "class year:\n",
    "    def __init__(self,branches):\n",
    "        self.branches = branches\n",
    "\n",
    "    def __str__(self):\n",
    "        return f\"Year: {self.branches}\"\n",
    "\n",
    "class branch:\n",
    "    def __init__(self,students):\n",
    "        self.students = students\n",
    "\n",
    "    def __str__(self):\n",
    "        return f\"Branch: {self.students}\"\n",
    "\n",
    "class student:\n",
    "    def __init__(self,name,roll_no,marks):\n",
    "        self.name = name\n",
    "        self.roll_no = roll_no\n",
    "        self.marks = marks\n",
    "\n",
    "    def __str__(self):\n",
    "        return f\"Student: {self.name}, {self.roll_no}, {self.marks.Maths}, {self.marks.English}\"\n",
    "\n",
    "\n",
    "class marks:\n",
    "    def __init__(self,Maths,English):\n",
    "        self.Maths = Maths\n",
    "        self.English = English\n",
    "\n",
    "    def __str__(self):\n",
    "        return f\"Marks: {self.Maths}, {self.English}\""
   ]
  },
  {
   "cell_type": "markdown",
   "id": "0317fdd6-ed30-4420-ae5a-ac1ed2608d91",
   "metadata": {},
   "source": [
    "Q.9 Using matplotlib plot the following functions on the domain: x = 0.5 to 100.0 in steps of 0.5."
   ]
  },
  {
   "cell_type": "code",
   "execution_count": 6,
   "id": "d734728d-4e07-4e73-aafa-55258172b9f2",
   "metadata": {},
   "outputs": [
    {
     "data": {
      "image/png": "[encoded data removed]",
      "text/plain": [
       "<Figure size 1000x800 with 7 Axes>"
      ]
     },
     "metadata": {},
     "output_type": "display_data"
    }
   ],
   "source": [
    "import matplotlib.pyplot as mpl\n",
    "import numpy as np\n",
    "\n",
    "x = np.arange(0.5,100.0,0.5)\n",
    "\n",
    "#the given function\n",
    "y1 = x\n",
    "y2 = x**2\n",
    "y3 = (x**3)/100\n",
    "y4 = np.sin(x)\n",
    "y5 = (np.sin(x))/x\n",
    "y6 = np.log(x)\n",
    "y7 = np.exp(x)\n",
    "\n",
    "mpl.figure(figsize=(10, 8))\n",
    "\n",
    "mpl.subplot(4, 2, 1)\n",
    "mpl.plot(x, y1, label='y = x')\n",
    "mpl.legend()\n",
    "\n",
    "mpl.subplot(4, 2, 2)\n",
    "mpl.plot(x, y2, label='y = x^2')\n",
    "mpl.legend()\n",
    "\n",
    "mpl.subplot(4, 2, 3)\n",
    "mpl.plot(x, y3, label='y = x^3/100')\n",
    "mpl.legend()\n",
    "\n",
    "mpl.subplot(4, 2, 4)\n",
    "mpl.plot(x, y4, label='y = sin(x)')\n",
    "mpl.legend()\n",
    "\n",
    "mpl.subplot(4, 2, 5)\n",
    "mpl.plot(x, y5, label='y = sin(x)/x')\n",
    "mpl.legend()\n",
    "\n",
    "mpl.subplot(4, 2, 6)\n",
    "mpl.plot(x, y6, label='y = log(x)')\n",
    "mpl.legend()\n",
    "\n",
    "mpl.subplot(4, 2, 7)\n",
    "mpl.plot(x, y7, label='y = e^x')\n",
    "mpl.legend()\n",
    "\n",
    "mpl.show()"
   ]
  },
  {
   "cell_type": "markdown",
   "id": "79f79cb3-784b-412c-99b9-7538ca2388de",
   "metadata": {},
   "source": [
    "Q.12 Write a small piece of code to explain broadcasting in numpy."
   ]
  },
  {
   "cell_type": "code",
   "execution_count": 7,
   "id": "56df15a5-cf7b-44f1-8006-7c2285bcd344",
   "metadata": {},
   "outputs": [
    {
     "name": "stdout",
     "output_type": "stream",
     "text": [
      "[[1 2 3]\n",
      " [0 1 2]\n",
      " [4 5 6]]\n"
     ]
    },
    {
     "ename": "ValueError",
     "evalue": "operands could not be broadcast together with shapes (2,3) (3,1) ",
     "output_type": "error",
     "traceback": [
      "\u001b[1;31m---------------------------------------------------------------------------\u001b[0m",
      "\u001b[1;31mValueError\u001b[0m                                Traceback (most recent call last)",
      "Cell \u001b[1;32mIn[7], line 19\u001b[0m\n\u001b[0;32m     17\u001b[0m arr3 \u001b[38;5;241m=\u001b[39m np\u001b[38;5;241m.\u001b[39marray([[\u001b[38;5;241m1\u001b[39m,\u001b[38;5;241m2\u001b[39m,\u001b[38;5;241m3\u001b[39m],[\u001b[38;5;241m4\u001b[39m,\u001b[38;5;241m5\u001b[39m,\u001b[38;5;241m6\u001b[39m]])\n\u001b[0;32m     18\u001b[0m arr4 \u001b[38;5;241m=\u001b[39m np\u001b[38;5;241m.\u001b[39marray([\u001b[38;5;241m0\u001b[39m,\u001b[38;5;241m-\u001b[39m\u001b[38;5;241m1\u001b[39m,\u001b[38;5;241m3\u001b[39m])\u001b[38;5;241m.\u001b[39mreshape((\u001b[38;5;241m3\u001b[39m,\u001b[38;5;241m1\u001b[39m))\n\u001b[1;32m---> 19\u001b[0m \u001b[38;5;28mprint\u001b[39m(\u001b[43marr3\u001b[49m\u001b[38;5;241;43m+\u001b[39;49m\u001b[43marr4\u001b[49m)\n",
      "\u001b[1;31mValueError\u001b[0m: operands could not be broadcast together with shapes (2,3) (3,1) "
     ]
    }
   ],
   "source": [
    "import numpy as np\n",
    "#in braodcasting, to perform operations on arrays of different dimensions\n",
    "#and different shapes, the arrays are stretched to match the dimensions\n",
    "arr1 = np.array([1,2,3])\n",
    "arr2 = np.array([0,-1,3]).reshape((3,1))\n",
    "#here both arrays are stretched to make shape as (3,3)\n",
    "'''\n",
    "[                 [\n",
    "[1,2,3],          [0,0,0],\n",
    "[1,2,3],    +     [-1,-1,-1],\n",
    "[1,2,3]           [3,3,3]\n",
    "]                 ]\n",
    "'''\n",
    "print(arr1+arr2)\n",
    "\n",
    "#if in any dimension sizes mismatch and neither is equal to 1, error is generated\n",
    "arr3 = np.array([[1,2,3],[4,5,6]])\n",
    "arr4 = np.array([0,-1,3]).reshape((3,1))\n",
    "print(arr3+arr4)"
   ]
  },
  {
   "cell_type": "markdown",
   "id": "221aa4d3-c7a0-46d2-880f-905e199be2e1",
   "metadata": {},
   "source": [
    "Q.13 Write a function to compute the argmin of a numpy array. The function should take a numpy array as input and return the index of the minimum element. You can use the np.argmin function to verify your solution."
   ]
  },
  {
   "cell_type": "code",
   "execution_count": 8,
   "id": "a79c0f78-b09f-4ae4-ae5f-c4c948f356f3",
   "metadata": {},
   "outputs": [
    {
     "name": "stdout",
     "output_type": "stream",
     "text": [
      "3\n",
      "3\n"
     ]
    }
   ],
   "source": [
    "#making argmin function\n",
    "def min_index(arr) :\n",
    "    min_ind = 0\n",
    "    min_elem = arr[0]\n",
    "    for i in range(len(arr)) :\n",
    "        if arr[i]<min_elem:\n",
    "            min_elem = arr[i]\n",
    "            min_ind = i\n",
    "    \n",
    "    return min_ind\n",
    "\n",
    "#using numpy argmin function \n",
    "import numpy as np\n",
    "arr = np.array([5,3,7,1,8,4])\n",
    "min_i2 = np.argmin(arr) #using numpy function\n",
    "\n",
    "\n",
    "min_i1 = min_index(arr) #using above function\n",
    "print(min_i1)\n",
    "\n",
    "print(min_i2)"
   ]
  }
 ],
 "metadata": {
  "kernelspec": {
   "display_name": "Python 3 (ipykernel)",
   "language": "python",
   "name": "python3"
  },
  "language_info": {
   "codemirror_mode": {
    "name": "ipython",
    "version": 3
   },
   "file_extension": ".py",
   "mimetype": "text/x-python",
   "name": "python",
   "nbconvert_exporter": "python",
   "pygments_lexer": "ipython3",
   "version": "3.12.1"
  }
 },
 "nbformat": 4,
 "nbformat_minor": 5
}
