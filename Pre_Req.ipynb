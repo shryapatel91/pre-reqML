{
 "cells": [
  {
   "cell_type": "markdown",
   "id": "02fc0c26-975c-4b39-a38e-5acb743cbc61",
   "metadata": {},
   "source": [
    "Q.1 How many multiplications and additions do you need to perform a matrix multiplication between a (n, k) and (k, m) matrix? Explain.\n",
    "    Number of mulitplication needed: n*k*m and number of additions needed: n*(k-1)*m\n",
    "    To calculate every element in the resultant (n,m) array, k multiplications and k-1 additions are required. To fill a row, m such operations are needed; n times to fill the whole array."
   ]
  },
  {
   "cell_type": "markdown",
   "id": "44401ef0-d8d0-4e3f-a10a-39cbd85efcca",
   "metadata": {},
   "source": [
    "Q.2 Write Python code to multiply the above two matrices. Solve using list of lists and then use numpy. Compare the timing of both solutions. Which one is faster? Why?\n",
    "    The method using a list of lists is faster than the method using numpy. \n",
    "    Time for the former method: 0.0008356571197509766s\n",
    "    Time for the later method: 0.2068006992340088s\r\n"
   ]
  },
  {
   "cell_type": "code",
   "execution_count": 2,
   "id": "77b83ba4-b93a-4a72-9167-cc7fcc680776",
   "metadata": {},
   "outputs": [
    {
     "name": "stdout",
     "output_type": "stream",
     "text": [
      "[[7, 16, 9], [21, 28, 17], [42, 40, 26]]\n",
      "0.0\n"
     ]
    }
   ],
   "source": [
    "import time \n",
    "start = time.time()\n",
    "\n",
    "matrix1 = [[3,1],\n",
    "           [4,3],\n",
    "           [4,6]]\n",
    "# a (n,k) matrix\n",
    "\n",
    "matrix2 = [[0,4,2],\n",
    "           [7,4,3]]\n",
    "# a (k,m) matrix\n",
    "\n",
    "n = 3 \n",
    "m = 3\n",
    "k = 2\n",
    "\n",
    "out_mat = [[0 for _ in range(m)] for _ in range(n)]\n",
    "\n",
    "for i in range(n) :\n",
    "    for j in range(m) :\n",
    "        for l in range(k):\n",
    "            out_mat[i][j] += matrix1[i][l] * matrix2[l][j]\n",
    "\n",
    "\n",
    "print(out_mat)\n",
    "end = time.time()\n",
    "print(end-start)"
   ]
  },
  {
   "cell_type": "code",
   "execution_count": 3,
   "id": "dfb68af9-012c-4e1b-b0b7-16d1c1cf3893",
   "metadata": {},
   "outputs": [
    {
     "name": "stdout",
     "output_type": "stream",
     "text": [
      "[[ 7 16  9]\n",
      " [21 28 17]\n",
      " [42 40 26]]\n",
      "0.0\n"
     ]
    }
   ],
   "source": [
    "#using numpy\n",
    "import numpy as np\n",
    "import time \n",
    "start = time.time()\n",
    "mat1 = np.array([[3,1],[4,3],[4,6]])\n",
    "mat2 = np.array([[0,4,2],[7,4,3]])\n",
    "\n",
    "n = 3 \n",
    "m = 3\n",
    "k = 2\n",
    "\n",
    "out_mat = np.dot(mat1,mat2)\n",
    "#function to calculate dot product of two arrays\n",
    "print(out_mat)\n",
    "\n",
    "end = time.time()\n",
    "print(end-start)"
   ]
  },
  {
   "cell_type": "markdown",
   "id": "ecb5ddb8-a2bb-46ed-ab12-a4dbbcf53c49",
   "metadata": {},
   "source": [
    "Q.3 Finding the highest element in a list requires one pass of the array. Finding the second highest element requires 2 passes of the the array. Using this method, what is the time complexity of finding the median of the array? Can you suggest a better method? Can you implement both these methods in Python and compare against numpy.median routine in terms of time?"
   ]
  },
  {
   "cell_type": "code",
   "execution_count": 6,
   "id": "d3c10db4-d547-4c41-bad0-c1de8328197e",
   "metadata": {},
   "outputs": [
    {
     "name": "stdout",
     "output_type": "stream",
     "text": [
      "2.5\n",
      "0.0\n"
     ]
    }
   ],
   "source": [
    "#Finding the highest element in a list requires one pass of the array. \n",
    "#Finding the second highest element requires 2 passes of the the array.\n",
    "# Using this method, what is the time complexity of finding the median of the array?\n",
    "\n",
    "#we'll run a loop till we find  midth highest element \n",
    "# where mid = n/2\n",
    "import time\n",
    "start = time.time()\n",
    "\n",
    "num = [1,0,3,4,2,5]\n",
    "n=6\n",
    "mid = n//2\n",
    "ans = 0\n",
    "for i in range(mid):\n",
    "    #find highest element\n",
    "    elem = max(num)\n",
    "    #for i in num:\n",
    "    #    if i>elem:\n",
    "    #        elem = i\n",
    "\n",
    "    num.remove(elem)\n",
    "    if n % 2 == 0 and i == mid - 1:\n",
    "        ans = (elem + max(num)) / 2\n",
    "    elif n % 2 == 1 and i == mid - 1:\n",
    "        ans = elem\n",
    "    n-=1\n",
    "\n",
    "\n",
    "print(ans)\n",
    "\n",
    "end = time.time()\n",
    "print(end-start)\n",
    "#time complexity O(n^2) n/2 times highest elements and n/2 searches each time"
   ]
  },
  {
   "cell_type": "code",
   "execution_count": 7,
   "id": "c198258b-5abb-44f1-8006-2e9853fc2f49",
   "metadata": {},
   "outputs": [
    {
     "name": "stdout",
     "output_type": "stream",
     "text": [
      "2.5\n",
      "0.0\n"
     ]
    }
   ],
   "source": [
    "#better method\n",
    "import time\n",
    "start = time.time()\n",
    "\n",
    "num = [1,0,3,4,2,5]\n",
    "n=6\n",
    "mid = n//2\n",
    "num.sort()\n",
    "print((num[mid]+num[mid-1])/2)\n",
    "\n",
    "end = time.time()\n",
    "print(end-start)\n",
    "#time complexity is O(nlogn) as sort() uses quick sort algorithm\n"
   ]
  },
  {
   "cell_type": "code",
   "execution_count": null,
   "id": "eb0f8b38-8c48-4408-bfb2-5e73ac730681",
   "metadata": {},
   "outputs": [],
   "source": [
    "#numpy median method\n",
    "import time\n",
    "import numpy as np\n",
    "\n",
    "start = time.time()\n",
    "\n",
    "num = np.array([1,0,3,4,2,5])\n",
    "med = np.median(num)\n",
    "print(med)\n",
    "\n",
    "end = time.time()\n",
    "print(end-start)"
   ]
  },
  {
   "cell_type": "markdown",
   "id": "e2b51822-3d56-43d0-a830-61b14a99b5b7",
   "metadata": {},
   "source": [
    "Q.4 What is the gradient of the following function with respect to x and y? \n",
    "$$f(x,y) = x^2*y + y^3*sin(x)$$\n",
    "    In terms of x:\n",
    "        $df/dx = (d(x^2)/dx)*y + y^3*(d(sin(x))/dx)$\n",
    "        $df/dx = 2*x*y + y^3*cos(x)$\n",
    "    In terms of y:\n",
    "        $df/dy = x^2*(d(y)/dy) + (d(y^3)/dy)*sinx(x)$\n",
    "        $df/dy = x^2 + 2*y^2*sinx(x)$"
   ]
  }
 ],
 "metadata": {
  "kernelspec": {
   "display_name": "Python 3 (ipykernel)",
   "language": "python",
   "name": "python3"
  },
  "language_info": {
   "codemirror_mode": {
    "name": "ipython",
    "version": 3
   },
   "file_extension": ".py",
   "mimetype": "text/x-python",
   "name": "python",
   "nbconvert_exporter": "python",
   "pygments_lexer": "ipython3",
   "version": "3.12.1"
  }
 },
 "nbformat": 4,
 "nbformat_minor": 5
}
